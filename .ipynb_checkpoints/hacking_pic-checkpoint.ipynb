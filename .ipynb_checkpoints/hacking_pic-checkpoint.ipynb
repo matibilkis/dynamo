{
 "cells": [
  {
   "cell_type": "code",
   "execution_count": 2,
   "id": "stock-narrow",
   "metadata": {},
   "outputs": [],
   "source": [
    "from IPython.display import display, HTML\n",
    "import numpy as np\n",
    "import matplotlib.pyplot as plt\n",
    "from scipy import optimize\n",
    "from tqdm import tqdm\n",
    "from scipy import interpolate\n",
    "\n",
    "\n",
    "\n",
    "alpha = 0.4\n",
    "\n",
    "def P_0(eta):\n",
    "    return np.max([eta, 1-eta])\n",
    "\n",
    "\n",
    "def Prob(n,alpha,beta):\n",
    "    p0 = np.exp(-(alpha+beta)**2)\n",
    "    if n==0:\n",
    "        return p0\n",
    "    else:\n",
    "        return 1-p0\n",
    "    \n",
    "def Prob_Outcome(n, alpha, beta, eta):\n",
    "    q=0\n",
    "    for a,et in zip([alpha, -alpha], [eta, 1-eta]):\n",
    "       q+= et*Prob(n,a,beta)\n",
    "    return q\n",
    "\n",
    "def Postirior(n, alpha, beta, eta):\n",
    "    po = Prob(n, alpha, beta)*eta\n",
    "    po /= Prob_Outcome(n, alpha, beta, eta)\n",
    "    return po\n",
    "\n",
    "def P_1(beta, eta):\n",
    "    p=0\n",
    "    for n in [0,1]:\n",
    "        p+= Prob_Outcome(n, alpha, beta,eta)*P_0(Postirior(n, alpha, beta,eta))\n",
    "    return 1-p\n",
    "\n",
    "def P_n(beta, eta,  model, at=1):\n",
    "    p=0\n",
    "    for n in [0,1]:\n",
    "        p+=Prob_Outcome(n, at*alpha, beta, eta)*model(Postirior(n, at*alpha, beta, eta))\n",
    "    return p\n",
    "\n",
    "\n",
    "def give_bounds(eta, alpha):\n",
    "    if alpha < 1:\n",
    "        return [((-1.5,1.5))]\n",
    "    else:\n",
    "        return [((-1.5*alpha,1.5*alpha))]"
   ]
  },
  {
   "cell_type": "code",
   "execution_count": null,
   "id": "genuine-organization",
   "metadata": {},
   "outputs": [
    {
     "name": "stderr",
     "output_type": "stream",
     "text": [
      "100%|██████████| 50/50 [00:00<00:00, 265.03it/s]\n",
      " 90%|█████████ | 45/50 [00:26<00:02,  1.69it/s]"
     ]
    }
   ],
   "source": [
    "etas_min = np.linspace(0,.5,50)\n",
    "whole_etas = np.concatenate([etas_min, (1-etas_min)[::-1]])\n",
    "\n",
    "L=4\n",
    "PS = np.zeros((L,2*len(etas_min)))\n",
    "BOPT = np.zeros((L,2*len(etas_min)))\n",
    "\n",
    "sm = lambda el: 0.01 if el != L-2 else 0.1\n",
    "ep = lambda el: 1e-12 if el > 10 else 1e-10\n",
    "\n",
    "for el in range(L)[::-1]:\n",
    "    if el==L-1:\n",
    "        for ind_eta, eta in enumerate(tqdm(etas_min)):\n",
    "            if ind_eta == 0:\n",
    "                PS[el, ind_eta] = 0\n",
    "                BOPT[el,ind_eta]= alpha\n",
    "            else:\n",
    "                optimization = optimize.minimize(P_1, BOPT[el, ind_eta-1], args=(eta), method=\"BFGS\") #args=(eta), method=\"bounded\", bounds = give_lim(eta,alpha))#, bonuds= bounds=((-2,2)))#, options={\"maxiter\":10**9, \"xatol\":1e-35})\n",
    "                PS[el,ind_eta]=optimization.fun\n",
    "                BOPT[el,ind_eta]=optimization.x\n",
    "        PS[el,len(etas_min):] = PS[el,:len(etas_min)][::-1]\n",
    "        BOPT[el,len(etas_min):] = -BOPT[el,:len(etas_min)][::-1]\n",
    "\n",
    "    else:\n",
    "        model = interpolate.Rbf(whole_etas, PS[el+1], smooth=0.01, epsilon=1e-2)\n",
    "        for ind_eta, eta in enumerate(tqdm(etas_min)):\n",
    "            \n",
    "            if ind_eta == 0:\n",
    "                PS[el, ind_eta] = 0\n",
    "                BOPT[el,ind_eta]= alpha\n",
    "            else:\n",
    "                optimization  = optimize.dual_annealing(P_n, x0=np.array([ BOPT[el, ind_eta-1]]), args=(eta, model, 1/np.sqrt(L)), bounds=give_bounds(eta, alpha))\n",
    "                #optimization = optimize.minimize(P_n, BOPT[el, ind_eta-1], args=(eta, model, 1/np.sqrt(L)), method=\"BFGS\") #args=(eta), method=\"bounded\", bounds = give_lim(eta,alpha))#, bonuds= bounds=((-2,2)))#, options={\"maxiter\":10**9, \"xatol\":1e-35})\n",
    "                PS[el,ind_eta]=optimization.fun\n",
    "                BOPT[el,ind_eta]=optimization.x\n",
    "        PS[el,len(etas_min):] = PS[el,:len(etas_min)][::-1]\n",
    "        BOPT[el,len(etas_min):] = -BOPT[el,:len(etas_min)][::-1]\n"
   ]
  },
  {
   "cell_type": "code",
   "execution_count": null,
   "id": "outdoor-mapping",
   "metadata": {},
   "outputs": [],
   "source": []
  }
 ],
 "metadata": {
  "kernelspec": {
   "display_name": "Python 3",
   "language": "python",
   "name": "python3"
  },
  "language_info": {
   "codemirror_mode": {
    "name": "ipython",
    "version": 3
   },
   "file_extension": ".py",
   "mimetype": "text/x-python",
   "name": "python",
   "nbconvert_exporter": "python",
   "pygments_lexer": "ipython3",
   "version": "3.6.9"
  }
 },
 "nbformat": 4,
 "nbformat_minor": 5
}
