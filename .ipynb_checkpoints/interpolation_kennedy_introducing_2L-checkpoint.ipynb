{
 "cells": [
  {
   "cell_type": "code",
   "execution_count": 1,
   "id": "integral-companion",
   "metadata": {},
   "outputs": [],
   "source": [
    "import numpy as np\n",
    "import matplotlib.pyplot as plt\n",
    "from scipy import optimize\n",
    "from tqdm import tqdm"
   ]
  },
  {
   "cell_type": "code",
   "execution_count": 2,
   "id": "unlikely-christmas",
   "metadata": {},
   "outputs": [
    {
     "data": {
      "text/plain": [
       "[<matplotlib.lines.Line2D at 0x7f5c7f3c9ba8>]"
      ]
     },
     "execution_count": 2,
     "metadata": {},
     "output_type": "execute_result"
    },
    {
     "data": {
      "image/png": "[encoded data removed]",
      "text/plain": [
       "<Figure size 432x288 with 1 Axes>"
      ]
     },
     "metadata": {
      "needs_background": "light"
     },
     "output_type": "display_data"
    }
   ],
   "source": []
  },
  {
   "cell_type": "code",
   "execution_count": 2,
   "id": "scheduled-moscow",
   "metadata": {},
   "outputs": [],
   "source": [
    "alpha = 0.4\n",
    "\n",
    "def P_0(eta):\n",
    "    return np.max([eta, 1-eta])\n",
    "\n",
    "\n",
    "def Prob(n,alpha,beta):\n",
    "    p0 = np.exp(-(alpha+beta)**2)\n",
    "    if n==0:\n",
    "        return p0\n",
    "    else:\n",
    "        return 1-p0\n",
    "    \n",
    "def Prob_Outcome(n, alpha, beta, eta):\n",
    "    q=0\n",
    "    for a,et in zip([alpha, -alpha], [eta, 1-eta]):\n",
    "       q+= et*Prob(n,a,beta)\n",
    "    return q\n",
    "\n",
    "def Postirior(n, alpha, beta, eta):\n",
    "    po = Prob(n, alpha, beta)*eta\n",
    "    po /= Prob_Outcome(n, alpha, beta, eta)\n",
    "    return po\n",
    "\n",
    "def P_1(beta, eta):\n",
    "    p=0\n",
    "    for n in [0,1]:\n",
    "        p+= Prob_Outcome(n, alpha, beta,eta)*P_0(Postirior(n, alpha, beta,eta))\n",
    "    return 1-p"
   ]
  },
  {
   "cell_type": "code",
   "execution_count": 10,
   "id": "wired-pilot",
   "metadata": {},
   "outputs": [
    {
     "name": "stderr",
     "output_type": "stream",
     "text": [
      "100%|██████████| 100/100 [00:00<00:00, 1032.12it/s]\n"
     ]
    }
   ],
   "source": [
    "give_lim= lambda eta,a : ((-2,2)) if eta>0.01 else ((a-1e-5, a+1e-5))\n",
    "\n",
    "\n",
    "etas_min = np.linspace(1e-10,.5,100)\n",
    "PS = np.zeros((1,2*len(etas_min)))\n",
    "BOPT = np.zeros((1,2*len(etas_min)))\n",
    "for ind_eta, eta in enumerate(tqdm(etas_min)):\n",
    "    optimization = optimize.minimize_scalar(P_1, args=(eta), method=\"bounded\", bounds = give_lim(eta,alpha))#, bonuds= bounds=((-2,2)))#, options={\"maxiter\":10**9, \"xatol\":1e-35})\n",
    "    PS[0,ind_eta]=optimization.fun\n",
    "    BOPT[0,ind_eta]=optimization.x\n",
    "\n",
    "PS[0,len(etas_min):] = PS[0,:len(etas_min)][::-1]\n",
    "BOPT[0,len(etas_min):] = -BOPT[0,:len(etas_min)][::-1]\n"
   ]
  },
  {
   "cell_type": "code",
   "execution_count": 13,
   "id": "miniature-necessity",
   "metadata": {},
   "outputs": [
    {
     "data": {
      "text/plain": [
       "[<matplotlib.lines.Line2D at 0x7f54e87a7b00>]"
      ]
     },
     "execution_count": 13,
     "metadata": {},
     "output_type": "execute_result"
    },
    {
     "data": {
      "image/png": "[encoded data removed]",
      "text/plain": [
       "<Figure size 432x288 with 1 Axes>"
      ]
     },
     "metadata": {
      "needs_background": "light"
     },
     "output_type": "display_data"
    }
   ],
   "source": [
    "plt.plot(np.abs(BOPT[0]),'.')"
   ]
  },
  {
   "cell_type": "code",
   "execution_count": null,
   "id": "heated-exclusion",
   "metadata": {},
   "outputs": [],
   "source": []
  },
  {
   "cell_type": "code",
   "execution_count": null,
   "id": "aggregate-boards",
   "metadata": {},
   "outputs": [],
   "source": []
  },
  {
   "cell_type": "code",
   "execution_count": null,
   "id": "differential-mattress",
   "metadata": {},
   "outputs": [],
   "source": []
  }
 ],
 "metadata": {
  "kernelspec": {
   "display_name": "Python 3",
   "language": "python",
   "name": "python3"
  },
  "language_info": {
   "codemirror_mode": {
    "name": "ipython",
    "version": 3
   },
   "file_extension": ".py",
   "mimetype": "text/x-python",
   "name": "python",
   "nbconvert_exporter": "python",
   "pygments_lexer": "ipython3",
   "version": "3.6.9"
  }
 },
 "nbformat": 4,
 "nbformat_minor": 5
}
