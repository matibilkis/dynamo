{
 "cells": [
  {
   "cell_type": "code",
   "execution_count": 1,
   "id": "leading-overhead",
   "metadata": {},
   "outputs": [],
   "source": [
    "import numpy as np\n",
    "from bokeh.plotting import figure, output_file, show\n",
    "from bokeh.io import curdoc\n",
    "\n",
    "S = np.load(\"results/100/0.4/Psuc.npy\")\n"
   ]
  },
  {
   "cell_type": "code",
   "execution_count": 8,
   "id": "alien-arabic",
   "metadata": {},
   "outputs": [],
   "source": [
    "# create a Figure object\n",
    "p = figure(width=300, height=300)\n",
    "etas_min = np.linspace(1e-10,.5,100)\n",
    "whole_etas = np.concatenate([etas_min, (1-etas_min)[::-1]])\n",
    "\n",
    "for k in range(100):\n",
    "    p.line(whole_etas,S[k], alpha=0.75)\n",
    "\n",
    "# specify how to output the plot(s)\n",
    "output_file(\"foo.html\")\n",
    "\n",
    "# display the figure\n",
    "show(p)"
   ]
  },
  {
   "cell_type": "code",
   "execution_count": null,
   "id": "amended-gilbert",
   "metadata": {},
   "outputs": [],
   "source": []
  }
 ],
 "metadata": {
  "kernelspec": {
   "display_name": "Python 3",
   "language": "python",
   "name": "python3"
  },
  "language_info": {
   "codemirror_mode": {
    "name": "ipython",
    "version": 3
   },
   "file_extension": ".py",
   "mimetype": "text/x-python",
   "name": "python",
   "nbconvert_exporter": "python",
   "pygments_lexer": "ipython3",
   "version": "3.6.9"
  }
 },
 "nbformat": 4,
 "nbformat_minor": 5
}
